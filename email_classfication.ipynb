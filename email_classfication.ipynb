{
 "cells": [
  {
   "cell_type": "markdown",
   "id": "3eea64ee-9475-4cf6-b3ec-1430ba9fb5a0",
   "metadata": {},
   "source": [
    "# download the kaggle data"
   ]
  },
  {
   "cell_type": "code",
   "execution_count": 1,
   "id": "d867b943-3aaf-4595-9801-306f48351718",
   "metadata": {},
   "outputs": [
    {
     "name": "stdout",
     "output_type": "stream",
     "text": [
      "Collecting kaggle\n",
      "  Downloading kaggle-1.6.14.tar.gz (82 kB)\n",
      "     ---------------------------------------- 0.0/82.1 kB ? eta -:--:--\n",
      "     --------- ---------------------------- 20.5/82.1 kB 330.3 kB/s eta 0:00:01\n",
      "     ------------------ ------------------- 41.0/82.1 kB 393.8 kB/s eta 0:00:01\n",
      "     -------------------------------------  81.9/82.1 kB 657.6 kB/s eta 0:00:01\n",
      "     -------------------------------------- 82.1/82.1 kB 509.6 kB/s eta 0:00:00\n",
      "  Preparing metadata (setup.py): started\n",
      "  Preparing metadata (setup.py): finished with status 'done'\n",
      "Requirement already satisfied: six>=1.10 in d:\\anaconda\\envs\\email_class\\lib\\site-packages (from kaggle) (1.16.0)\n",
      "Requirement already satisfied: certifi>=2023.7.22 in d:\\anaconda\\envs\\email_class\\lib\\site-packages (from kaggle) (2024.6.2)\n",
      "Requirement already satisfied: python-dateutil in d:\\anaconda\\envs\\email_class\\lib\\site-packages (from kaggle) (2.9.0.post0)\n",
      "Requirement already satisfied: requests in d:\\anaconda\\envs\\email_class\\lib\\site-packages (from kaggle) (2.32.2)\n",
      "Collecting tqdm (from kaggle)\n",
      "  Using cached tqdm-4.66.4-py3-none-any.whl.metadata (57 kB)\n",
      "Collecting python-slugify (from kaggle)\n",
      "  Downloading python_slugify-8.0.4-py2.py3-none-any.whl.metadata (8.5 kB)\n",
      "Requirement already satisfied: urllib3 in d:\\anaconda\\envs\\email_class\\lib\\site-packages (from kaggle) (2.2.1)\n",
      "Requirement already satisfied: bleach in d:\\anaconda\\envs\\email_class\\lib\\site-packages (from kaggle) (4.1.0)\n",
      "Requirement already satisfied: packaging in d:\\anaconda\\envs\\email_class\\lib\\site-packages (from bleach->kaggle) (23.2)\n",
      "Requirement already satisfied: webencodings in d:\\anaconda\\envs\\email_class\\lib\\site-packages (from bleach->kaggle) (0.5.1)\n",
      "Collecting text-unidecode>=1.3 (from python-slugify->kaggle)\n",
      "  Downloading text_unidecode-1.3-py2.py3-none-any.whl.metadata (2.4 kB)\n",
      "Requirement already satisfied: charset-normalizer<4,>=2 in d:\\anaconda\\envs\\email_class\\lib\\site-packages (from requests->kaggle) (2.0.4)\n",
      "Requirement already satisfied: idna<4,>=2.5 in d:\\anaconda\\envs\\email_class\\lib\\site-packages (from requests->kaggle) (3.7)\n",
      "Requirement already satisfied: colorama in d:\\anaconda\\envs\\email_class\\lib\\site-packages (from tqdm->kaggle) (0.4.6)\n",
      "Downloading python_slugify-8.0.4-py2.py3-none-any.whl (10 kB)\n",
      "Using cached tqdm-4.66.4-py3-none-any.whl (78 kB)\n",
      "Downloading text_unidecode-1.3-py2.py3-none-any.whl (78 kB)\n",
      "   ---------------------------------------- 0.0/78.2 kB ? eta -:--:--\n",
      "   ---------------------------------------- 78.2/78.2 kB 2.1 MB/s eta 0:00:00\n",
      "Building wheels for collected packages: kaggle\n",
      "  Building wheel for kaggle (setup.py): started\n",
      "  Building wheel for kaggle (setup.py): finished with status 'done'\n",
      "  Created wheel for kaggle: filename=kaggle-1.6.14-py3-none-any.whl size=105128 sha256=aa565369192a678c1b0fe4b7aa4402f820a9953f283f1a1f1b4b4f7a20fd5eac\n",
      "  Stored in directory: c:\\users\\mehardeep kaur\\appdata\\local\\pip\\cache\\wheels\\89\\bc\\52\\0d140fc172783e1e72e3af4dfc13015dc154527fafb95e65cd\n",
      "Successfully built kaggle\n",
      "Installing collected packages: text-unidecode, tqdm, python-slugify, kaggle\n",
      "Successfully installed kaggle-1.6.14 python-slugify-8.0.4 text-unidecode-1.3 tqdm-4.66.4\n"
     ]
    }
   ],
   "source": [
    "!pip install kaggle"
   ]
  },
  {
   "cell_type": "code",
   "execution_count": 7,
   "id": "b553b8f8-f6e9-4b30-ac49-9b59ee694f27",
   "metadata": {},
   "outputs": [
    {
     "name": "stdout",
     "output_type": "stream",
     "text": [
      "ref                                                           title                                              size  lastUpdated          downloadCount  voteCount  usabilityRating  \n",
      "------------------------------------------------------------  ------------------------------------------------  -----  -------------------  -------------  ---------  ---------------  \n",
      "wcukierski/enron-email-dataset                                The Enron Email Dataset                           358MB  2016-06-16 20:55:19          49396        705  0.7647059        \n",
      "ashfakyeafi/spam-email-classification                         Spam email classification                         207KB  2023-12-22 19:59:51           1917         88  1.0              \n",
      "mfaisalqureshi/spam-email                                     Spam Email                                        207KB  2021-06-21 08:16:42           8363         54  0.7647059        \n",
      "subhajournal/phishingemails                                   Phishing Email Detection                           18MB  2023-07-06 15:31:52           5608         59  0.9411765        \n",
      "balaka18/email-spam-classification-dataset-csv                Email Spam Classification Dataset CSV               2MB  2020-03-10 05:08:13          47145        241  0.9117647        \n",
      "purusinghvi/email-spam-classification-dataset                 Spam Email Classification Dataset                  43MB  2023-11-06 10:43:38           4858         75  1.0              \n",
      "prishasawhney/email-classification-ham-spam                   Email Classification (Ham-Spam)                     4KB  2024-04-16 23:08:01            719         87  1.0              \n",
      "nitishabharathi/email-spam-dataset                            Email Spam Dataset                                 17MB  2020-10-30 04:22:42           7256         55  0.8235294        \n",
      "jackksoncsie/spam-email-dataset                               Spam email Dataset                                  3MB  2023-09-01 14:27:05           2688         28  1.0              \n",
      "somesh24/spambase                                             Spam Email Classification                         127KB  2020-07-09 19:16:38           3310         29  0.9411765        \n",
      "kaggle/hillary-clinton-emails                                 Hillary Clinton's Emails                           12MB  2019-11-14 05:31:24          18912        301  0.7058824        \n",
      "abdmental01/email-spam-dedection                              Spam Email Dataset                                208KB  2024-03-09 19:19:58            103         90  1.0              \n",
      "shantanudhakadd/email-spam-detection-dataset-classification   Email Spam Detection Dataset (classification)     211KB  2022-02-27 19:37:11           7661         66  0.9411765        \n",
      "abdallahwagih/spam-emails                                     Spam Emails                                       207KB  2023-10-09 23:51:12           1332         47  1.0              \n",
      "naserabdullahalam/phishing-email-dataset                      Phishing Email Dataset                             77MB  2024-05-24 03:47:20            709         25  1.0              \n",
      "satyajeetbedi/email-hamspam-dataset                           Email Ham/Spam Dataset                            211KB  2024-02-01 19:27:44            220         42  0.7058824        \n",
      "tapakah68/email-spam-classification                           Email Spam Text Classification Dataset             30KB  2023-08-01 11:33:36           2153         37  1.0              \n",
      "b'mohinurabdurahimova/maildataset                               The Enron Email Dataset\\xf0\\x9f\\x93\\xa9\\xf0\\x9f\\x93\\xaa                         214KB  2024-06-06 21:36:15           1058         49  0.8235294        '\n",
      "ganiyuolalekan/spam-assassin-email-classification-dataset     Email Classification                                7MB  2021-08-06 12:43:06           2265         16  1.0              \n",
      "rowhitswami/all-indian-companies-registration-data-1900-2019  Indian Companies Registration Data [1857 - 2020]  112MB  2020-12-12 03:59:01           4827        155  1.0              \n"
     ]
    }
   ],
   "source": [
    "!kaggle datasets list -s \"email\""
   ]
  },
  {
   "cell_type": "code",
   "execution_count": 9,
   "id": "3f2fdb51-9f59-4b40-b29a-ffc342e8b949",
   "metadata": {},
   "outputs": [
    {
     "name": "stdout",
     "output_type": "stream",
     "text": [
      "Dataset URL: https://www.kaggle.com/datasets/wcukierski/enron-email-dataset\n",
      "License(s): copyright-authors\n",
      "Downloading enron-email-dataset.zip to D:\\Mehardeep Kaur\\email_classification\n",
      "\n"
     ]
    },
    {
     "name": "stderr",
     "output_type": "stream",
     "text": [
      "\n",
      "  0%|          | 0.00/358M [00:00<?, ?B/s]\n",
      "  0%|          | 1.00M/358M [00:01<09:48, 636kB/s]\n",
      "  1%|          | 2.00M/358M [00:01<04:52, 1.28MB/s]\n",
      "  1%|          | 3.00M/358M [00:02<03:01, 2.05MB/s]\n",
      "  1%|1         | 4.00M/358M [00:02<02:04, 2.97MB/s]\n",
      "  1%|1         | 5.00M/358M [00:02<01:32, 4.00MB/s]\n",
      "  2%|1         | 6.00M/358M [00:02<01:12, 5.06MB/s]\n",
      "  2%|2         | 8.00M/358M [00:02<00:54, 6.72MB/s]\n",
      "  3%|2         | 9.00M/358M [00:02<00:50, 7.18MB/s]\n",
      "  3%|3         | 11.0M/358M [00:02<00:44, 8.26MB/s]\n",
      "  3%|3         | 12.0M/358M [00:02<00:42, 8.51MB/s]\n",
      "  4%|3         | 13.0M/358M [00:03<00:41, 8.74MB/s]\n",
      "  4%|4         | 15.0M/358M [00:03<00:39, 9.06MB/s]\n",
      "  4%|4         | 16.0M/358M [00:03<00:39, 9.09MB/s]\n",
      "  5%|4         | 17.0M/358M [00:03<00:42, 8.36MB/s]\n",
      "  5%|5         | 19.0M/358M [00:03<00:38, 9.35MB/s]\n",
      "  6%|5         | 21.0M/358M [00:03<00:35, 10.0MB/s]\n",
      "  6%|6         | 23.0M/358M [00:04<00:32, 10.8MB/s]\n",
      "  7%|6         | 25.0M/358M [00:04<00:31, 11.2MB/s]\n",
      "  8%|7         | 27.0M/358M [00:04<00:30, 11.5MB/s]\n",
      "  8%|8         | 29.0M/358M [00:04<00:30, 11.4MB/s]\n",
      "  9%|8         | 31.0M/358M [00:04<00:29, 11.7MB/s]\n",
      "  9%|9         | 33.0M/358M [00:04<00:28, 12.0MB/s]\n",
      " 10%|9         | 35.0M/358M [00:05<00:27, 12.4MB/s]\n",
      " 10%|#         | 37.0M/358M [00:05<00:27, 12.3MB/s]\n",
      " 11%|#         | 39.0M/358M [00:05<00:27, 12.3MB/s]\n",
      " 11%|#1        | 41.0M/358M [00:05<00:27, 12.3MB/s]\n",
      " 12%|#2        | 43.0M/358M [00:05<00:28, 11.6MB/s]\n",
      " 13%|#2        | 45.0M/358M [00:06<00:28, 11.6MB/s]\n",
      " 13%|#3        | 47.0M/358M [00:06<00:37, 8.73MB/s]\n",
      " 14%|#3        | 49.0M/358M [00:06<00:33, 9.59MB/s]\n",
      " 14%|#4        | 51.0M/358M [00:06<00:31, 10.3MB/s]\n",
      " 15%|#4        | 53.0M/358M [00:06<00:28, 11.2MB/s]\n",
      " 15%|#5        | 55.0M/358M [00:07<00:29, 10.6MB/s]\n",
      " 16%|#5        | 57.0M/358M [00:07<00:28, 10.9MB/s]\n",
      " 16%|#6        | 59.0M/358M [00:07<00:26, 11.7MB/s]\n",
      " 17%|#7        | 61.0M/358M [00:07<00:31, 9.76MB/s]\n",
      " 18%|#7        | 63.0M/358M [00:08<00:40, 7.68MB/s]\n",
      " 18%|#7        | 64.0M/358M [00:08<00:44, 6.94MB/s]\n",
      " 18%|#8        | 65.0M/358M [00:08<00:45, 6.79MB/s]\n",
      " 18%|#8        | 66.0M/358M [00:08<00:47, 6.41MB/s]\n",
      " 19%|#8        | 67.0M/358M [00:08<00:47, 6.44MB/s]\n",
      " 19%|#8        | 68.0M/358M [00:09<00:48, 6.24MB/s]\n",
      " 19%|#9        | 69.0M/358M [00:09<01:00, 4.99MB/s]\n",
      " 20%|#9        | 70.0M/358M [00:09<00:52, 5.80MB/s]\n",
      " 20%|##        | 72.0M/358M [00:09<00:40, 7.38MB/s]\n",
      " 20%|##        | 73.0M/358M [00:09<00:38, 7.83MB/s]\n",
      " 21%|##        | 74.0M/358M [00:09<00:35, 8.29MB/s]\n",
      " 21%|##        | 75.0M/358M [00:10<00:34, 8.58MB/s]\n",
      " 22%|##1       | 77.0M/358M [00:10<00:32, 8.95MB/s]\n",
      " 22%|##2       | 79.0M/358M [00:10<00:30, 9.71MB/s]\n",
      " 23%|##2       | 81.0M/358M [00:10<00:28, 10.0MB/s]\n",
      " 23%|##3       | 83.0M/358M [00:10<00:27, 10.7MB/s]\n",
      " 24%|##3       | 85.0M/358M [00:10<00:25, 11.2MB/s]\n",
      " 24%|##4       | 87.0M/358M [00:11<00:24, 11.4MB/s]\n",
      " 25%|##4       | 89.0M/358M [00:11<00:24, 11.7MB/s]\n",
      " 25%|##5       | 91.0M/358M [00:11<00:28, 9.80MB/s]\n",
      " 26%|##5       | 92.0M/358M [00:11<00:28, 9.90MB/s]\n",
      " 26%|##6       | 94.0M/358M [00:11<00:25, 10.8MB/s]\n",
      " 27%|##6       | 96.0M/358M [00:12<00:23, 11.5MB/s]\n",
      " 27%|##7       | 98.0M/358M [00:12<00:22, 11.9MB/s]\n",
      " 28%|##7       | 100M/358M [00:12<00:21, 12.4MB/s] \n",
      " 28%|##8       | 102M/358M [00:12<00:21, 12.7MB/s]\n",
      " 29%|##9       | 104M/358M [00:12<00:20, 13.0MB/s]\n",
      " 30%|##9       | 106M/358M [00:12<00:20, 13.0MB/s]\n",
      " 30%|###       | 108M/358M [00:12<00:20, 12.9MB/s]\n",
      " 31%|###       | 110M/358M [00:13<00:19, 13.1MB/s]\n",
      " 31%|###1      | 112M/358M [00:13<00:19, 13.3MB/s]\n",
      " 32%|###1      | 114M/358M [00:13<00:19, 12.8MB/s]\n",
      " 32%|###2      | 116M/358M [00:13<00:19, 13.1MB/s]\n",
      " 33%|###2      | 118M/358M [00:13<00:18, 13.5MB/s]\n",
      " 34%|###3      | 120M/358M [00:13<00:18, 13.5MB/s]\n",
      " 34%|###4      | 122M/358M [00:14<00:18, 13.2MB/s]\n",
      " 35%|###4      | 124M/358M [00:14<00:18, 13.6MB/s]\n",
      " 35%|###5      | 126M/358M [00:14<00:18, 13.3MB/s]\n",
      " 36%|###5      | 128M/358M [00:14<00:17, 13.6MB/s]\n",
      " 36%|###6      | 130M/358M [00:14<00:17, 13.3MB/s]\n",
      " 37%|###6      | 132M/358M [00:14<00:18, 13.0MB/s]\n",
      " 37%|###7      | 134M/358M [00:15<00:17, 13.1MB/s]\n",
      " 38%|###7      | 136M/358M [00:15<00:17, 13.0MB/s]\n",
      " 39%|###8      | 138M/358M [00:15<00:17, 13.3MB/s]\n",
      " 39%|###9      | 140M/358M [00:15<00:17, 13.0MB/s]\n",
      " 40%|###9      | 142M/358M [00:15<00:16, 13.4MB/s]\n",
      " 40%|####      | 144M/358M [00:15<00:17, 13.2MB/s]\n",
      " 41%|####      | 146M/358M [00:15<00:16, 13.4MB/s]\n",
      " 41%|####1     | 148M/358M [00:16<00:17, 12.8MB/s]\n",
      " 42%|####1     | 150M/358M [00:16<00:16, 13.0MB/s]\n",
      " 42%|####2     | 152M/358M [00:16<00:16, 12.9MB/s]\n",
      " 43%|####3     | 154M/358M [00:16<00:16, 13.0MB/s]\n",
      " 44%|####3     | 156M/358M [00:16<00:20, 10.4MB/s]\n",
      " 44%|####4     | 158M/358M [00:17<00:19, 10.7MB/s]\n",
      " 45%|####4     | 160M/358M [00:17<00:18, 11.2MB/s]\n",
      " 45%|####5     | 162M/358M [00:17<00:17, 12.0MB/s]\n",
      " 46%|####5     | 164M/358M [00:17<00:16, 12.3MB/s]\n",
      " 46%|####6     | 166M/358M [00:17<00:15, 12.7MB/s]\n",
      " 47%|####6     | 168M/358M [00:17<00:15, 13.1MB/s]\n",
      " 47%|####7     | 170M/358M [00:18<00:15, 13.0MB/s]\n",
      " 48%|####8     | 172M/358M [00:18<00:14, 13.2MB/s]\n",
      " 49%|####8     | 174M/358M [00:18<00:14, 13.1MB/s]\n",
      " 49%|####9     | 176M/358M [00:18<00:14, 12.9MB/s]\n",
      " 50%|####9     | 178M/358M [00:18<00:14, 13.2MB/s]\n",
      " 50%|#####     | 180M/358M [00:18<00:14, 13.0MB/s]\n",
      " 51%|#####     | 182M/358M [00:18<00:13, 13.4MB/s]\n",
      " 51%|#####1    | 184M/358M [00:19<00:13, 13.1MB/s]\n",
      " 52%|#####1    | 186M/358M [00:19<00:13, 13.2MB/s]\n",
      " 53%|#####2    | 188M/358M [00:19<00:13, 13.0MB/s]\n",
      " 53%|#####3    | 190M/358M [00:19<00:14, 12.3MB/s]\n",
      " 54%|#####3    | 192M/358M [00:19<00:15, 11.4MB/s]\n",
      " 54%|#####4    | 194M/358M [00:20<00:15, 10.8MB/s]\n",
      " 55%|#####4    | 196M/358M [00:20<00:16, 10.4MB/s]\n",
      " 55%|#####5    | 198M/358M [00:20<00:16, 10.1MB/s]\n",
      " 56%|#####5    | 200M/358M [00:20<00:16, 10.1MB/s]\n",
      " 56%|#####6    | 201M/358M [00:20<00:16, 9.99MB/s]\n",
      " 56%|#####6    | 202M/358M [00:20<00:16, 9.95MB/s]\n",
      " 57%|#####6    | 203M/358M [00:21<00:16, 10.0MB/s]\n",
      " 57%|#####6    | 204M/358M [00:21<00:16, 9.86MB/s]\n",
      " 58%|#####7    | 206M/358M [00:21<00:14, 11.0MB/s]\n",
      " 58%|#####8    | 208M/358M [00:21<00:13, 12.0MB/s]\n",
      " 59%|#####8    | 210M/358M [00:21<00:12, 12.3MB/s]\n",
      " 59%|#####9    | 212M/358M [00:21<00:11, 12.9MB/s]\n",
      " 60%|#####9    | 214M/358M [00:22<00:13, 11.5MB/s]\n",
      " 60%|######    | 216M/358M [00:22<00:14, 10.2MB/s]\n",
      " 61%|######    | 218M/358M [00:22<00:12, 11.4MB/s]\n",
      " 61%|######1   | 220M/358M [00:22<00:12, 11.8MB/s]\n",
      " 62%|######2   | 222M/358M [00:22<00:11, 12.4MB/s]\n",
      " 63%|######2   | 224M/358M [00:22<00:10, 12.9MB/s]\n",
      " 63%|######3   | 226M/358M [00:23<00:10, 13.3MB/s]\n",
      " 64%|######3   | 228M/358M [00:23<00:10, 13.1MB/s]\n",
      " 64%|######4   | 230M/358M [00:23<00:10, 13.0MB/s]\n",
      " 65%|######4   | 232M/358M [00:23<00:09, 13.3MB/s]\n",
      " 65%|######5   | 234M/358M [00:23<00:09, 13.1MB/s]\n",
      " 66%|######5   | 236M/358M [00:23<00:09, 13.7MB/s]\n",
      " 66%|######6   | 238M/358M [00:23<00:09, 13.6MB/s]\n",
      " 67%|######7   | 240M/358M [00:24<00:09, 13.6MB/s]\n",
      " 68%|######7   | 242M/358M [00:24<00:08, 13.7MB/s]\n",
      " 68%|######8   | 244M/358M [00:24<00:08, 13.7MB/s]\n",
      " 69%|######8   | 246M/358M [00:24<00:08, 13.7MB/s]\n",
      " 69%|######9   | 248M/358M [00:24<00:08, 13.8MB/s]\n",
      " 70%|######9   | 250M/358M [00:24<00:08, 13.8MB/s]\n",
      " 70%|#######   | 252M/358M [00:25<00:08, 13.6MB/s]\n",
      " 71%|#######   | 254M/358M [00:25<00:08, 12.3MB/s]\n",
      " 72%|#######1  | 256M/358M [00:25<00:07, 14.0MB/s]\n",
      " 72%|#######2  | 258M/358M [00:25<00:08, 12.9MB/s]\n",
      " 73%|#######2  | 260M/358M [00:25<00:07, 13.9MB/s]\n",
      " 73%|#######3  | 262M/358M [00:25<00:07, 13.6MB/s]\n",
      " 74%|#######3  | 264M/358M [00:25<00:07, 13.8MB/s]\n",
      " 74%|#######4  | 266M/358M [00:26<00:07, 12.6MB/s]\n",
      " 75%|#######4  | 268M/358M [00:26<00:07, 13.0MB/s]\n",
      " 75%|#######5  | 270M/358M [00:26<00:06, 13.2MB/s]\n",
      " 76%|#######5  | 272M/358M [00:26<00:07, 12.8MB/s]\n",
      " 77%|#######6  | 274M/358M [00:26<00:07, 12.1MB/s]\n",
      " 77%|#######7  | 276M/358M [00:27<00:07, 11.7MB/s]\n",
      " 78%|#######7  | 278M/358M [00:27<00:09, 9.17MB/s]\n",
      " 78%|#######7  | 279M/358M [00:27<00:08, 9.22MB/s]\n",
      " 79%|#######8  | 281M/358M [00:27<00:07, 10.6MB/s]\n",
      " 79%|#######9  | 283M/358M [00:27<00:06, 11.3MB/s]\n",
      " 80%|#######9  | 285M/358M [00:27<00:06, 12.1MB/s]\n",
      " 80%|########  | 287M/358M [00:28<00:06, 12.4MB/s]\n",
      " 81%|########  | 289M/358M [00:28<00:05, 13.1MB/s]\n",
      " 81%|########1 | 291M/358M [00:28<00:05, 13.3MB/s]\n",
      " 82%|########1 | 293M/358M [00:28<00:05, 13.5MB/s]\n",
      " 82%|########2 | 295M/358M [00:28<00:04, 13.3MB/s]\n",
      " 83%|########2 | 297M/358M [00:28<00:04, 13.1MB/s]\n",
      " 84%|########3 | 299M/358M [00:29<00:04, 13.3MB/s]\n",
      " 84%|########4 | 301M/358M [00:29<00:04, 13.3MB/s]\n",
      " 85%|########4 | 303M/358M [00:29<00:04, 13.3MB/s]\n",
      " 85%|########5 | 305M/358M [00:29<00:04, 13.6MB/s]\n",
      " 86%|########5 | 307M/358M [00:29<00:03, 13.7MB/s]\n",
      " 86%|########6 | 309M/358M [00:29<00:03, 13.9MB/s]\n",
      " 87%|########6 | 311M/358M [00:29<00:03, 12.9MB/s]\n",
      " 87%|########7 | 313M/358M [00:30<00:03, 14.0MB/s]\n",
      " 88%|########8 | 315M/358M [00:30<00:03, 13.3MB/s]\n",
      " 89%|########8 | 317M/358M [00:30<00:03, 13.0MB/s]\n",
      " 89%|########9 | 319M/358M [00:30<00:03, 12.2MB/s]\n",
      " 90%|########9 | 321M/358M [00:30<00:03, 11.6MB/s]\n",
      " 90%|######### | 323M/358M [00:31<00:03, 11.5MB/s]\n",
      " 91%|######### | 325M/358M [00:31<00:03, 11.4MB/s]\n",
      " 91%|#########1| 327M/358M [00:31<00:02, 11.0MB/s]\n",
      " 92%|#########1| 329M/358M [00:31<00:02, 11.1MB/s]\n",
      " 92%|#########2| 331M/358M [00:31<00:02, 10.9MB/s]\n",
      " 93%|#########3| 333M/358M [00:31<00:02, 11.4MB/s]\n",
      " 94%|#########3| 335M/358M [00:32<00:02, 12.0MB/s]\n",
      " 94%|#########4| 337M/358M [00:32<00:01, 12.5MB/s]\n",
      " 95%|#########4| 339M/358M [00:32<00:01, 12.1MB/s]\n",
      " 95%|#########5| 341M/358M [00:32<00:01, 10.5MB/s]\n",
      " 96%|#########5| 343M/358M [00:32<00:01, 11.3MB/s]\n",
      " 96%|#########6| 345M/358M [00:33<00:01, 11.9MB/s]\n",
      " 97%|#########6| 347M/358M [00:33<00:00, 12.4MB/s]\n",
      " 98%|#########7| 349M/358M [00:33<00:00, 12.7MB/s]\n",
      " 98%|#########8| 351M/358M [00:33<00:00, 12.9MB/s]\n",
      " 99%|#########8| 353M/358M [00:33<00:00, 13.1MB/s]\n",
      " 99%|#########9| 355M/358M [00:33<00:00, 13.2MB/s]\n",
      "100%|#########9| 357M/358M [00:33<00:00, 13.1MB/s]\n",
      "100%|##########| 358M/358M [00:34<00:00, 11.0MB/s]\n"
     ]
    }
   ],
   "source": [
    "!kaggle datasets download -d \"wcukierski/enron-email-dataset\""
   ]
  },
  {
   "cell_type": "code",
   "execution_count": 13,
   "id": "7a42dbd2-b08b-4bd9-aa20-d5b0727b6d6f",
   "metadata": {},
   "outputs": [],
   "source": [
    "import zipfile\n",
    "with zipfile.ZipFile('enron-email-dataset.zip', 'r') as zip_ref:\n",
    "    zip_ref.extractall('email_classification/enron-email-dataset')"
   ]
  },
  {
   "cell_type": "markdown",
   "id": "47633b7a-8a8e-42b7-9b76-3d98bb1cc4d6",
   "metadata": {},
   "source": [
    "# importing the necessary libraries"
   ]
  },
  {
   "cell_type": "code",
   "execution_count": 3,
   "id": "1b651b1b-d784-42e4-b440-fe74ae0e1a91",
   "metadata": {},
   "outputs": [],
   "source": [
    "import numpy as np    #for numerical computation\n",
    "\n",
    "import pandas as pd   #for read_csv, working with csv files"
   ]
  },
  {
   "cell_type": "markdown",
   "id": "49bb312f-3d55-47dd-a1b6-aa4fa5531d69",
   "metadata": {},
   "source": [
    "# Exploring the data"
   ]
  },
  {
   "cell_type": "code",
   "execution_count": 6,
   "id": "a0654115-16d3-44a7-8d1f-2d22ed6dfa1d",
   "metadata": {},
   "outputs": [],
   "source": [
    "email_df = pd.read_csv(\"emails.csv\")     #display the csv file"
   ]
  },
  {
   "cell_type": "code",
   "execution_count": 7,
   "id": "10146ca5-c769-4c9a-b23f-23fb64f5b388",
   "metadata": {},
   "outputs": [
    {
     "data": {
      "text/html": [
       "<div>\n",
       "<style scoped>\n",
       "    .dataframe tbody tr th:only-of-type {\n",
       "        vertical-align: middle;\n",
       "    }\n",
       "\n",
       "    .dataframe tbody tr th {\n",
       "        vertical-align: top;\n",
       "    }\n",
       "\n",
       "    .dataframe thead th {\n",
       "        text-align: right;\n",
       "    }\n",
       "</style>\n",
       "<table border=\"1\" class=\"dataframe\">\n",
       "  <thead>\n",
       "    <tr style=\"text-align: right;\">\n",
       "      <th></th>\n",
       "      <th>file</th>\n",
       "      <th>message</th>\n",
       "    </tr>\n",
       "  </thead>\n",
       "  <tbody>\n",
       "    <tr>\n",
       "      <th>0</th>\n",
       "      <td>allen-p/_sent_mail/1.</td>\n",
       "      <td>Message-ID: &lt;18782981.1075855378110.JavaMail.e...</td>\n",
       "    </tr>\n",
       "    <tr>\n",
       "      <th>1</th>\n",
       "      <td>allen-p/_sent_mail/10.</td>\n",
       "      <td>Message-ID: &lt;15464986.1075855378456.JavaMail.e...</td>\n",
       "    </tr>\n",
       "    <tr>\n",
       "      <th>2</th>\n",
       "      <td>allen-p/_sent_mail/100.</td>\n",
       "      <td>Message-ID: &lt;24216240.1075855687451.JavaMail.e...</td>\n",
       "    </tr>\n",
       "    <tr>\n",
       "      <th>3</th>\n",
       "      <td>allen-p/_sent_mail/1000.</td>\n",
       "      <td>Message-ID: &lt;13505866.1075863688222.JavaMail.e...</td>\n",
       "    </tr>\n",
       "    <tr>\n",
       "      <th>4</th>\n",
       "      <td>allen-p/_sent_mail/1001.</td>\n",
       "      <td>Message-ID: &lt;30922949.1075863688243.JavaMail.e...</td>\n",
       "    </tr>\n",
       "  </tbody>\n",
       "</table>\n",
       "</div>"
      ],
      "text/plain": [
       "                       file                                            message\n",
       "0     allen-p/_sent_mail/1.  Message-ID: <18782981.1075855378110.JavaMail.e...\n",
       "1    allen-p/_sent_mail/10.  Message-ID: <15464986.1075855378456.JavaMail.e...\n",
       "2   allen-p/_sent_mail/100.  Message-ID: <24216240.1075855687451.JavaMail.e...\n",
       "3  allen-p/_sent_mail/1000.  Message-ID: <13505866.1075863688222.JavaMail.e...\n",
       "4  allen-p/_sent_mail/1001.  Message-ID: <30922949.1075863688243.JavaMail.e..."
      ]
     },
     "execution_count": 7,
     "metadata": {},
     "output_type": "execute_result"
    }
   ],
   "source": [
    "email_df.head()                                 #check the first 5 columns"
   ]
  },
  {
   "cell_type": "code",
   "execution_count": 8,
   "id": "edfdbd43-bd2a-4a0a-8f2f-e71d3fe17894",
   "metadata": {},
   "outputs": [
    {
     "data": {
      "text/plain": [
       "(517401, 2)"
      ]
     },
     "execution_count": 8,
     "metadata": {},
     "output_type": "execute_result"
    }
   ],
   "source": [
    "#check number of rows and columns\n",
    "\n",
    "email_df.shape     #it contains 517401 rows and 2 columns"
   ]
  },
  {
   "cell_type": "code",
   "execution_count": 9,
   "id": "6b602dd9-c230-4517-bc06-2cee25a2d29d",
   "metadata": {},
   "outputs": [
    {
     "name": "stdout",
     "output_type": "stream",
     "text": [
      "<class 'pandas.core.frame.DataFrame'>\n",
      "RangeIndex: 517401 entries, 0 to 517400\n",
      "Data columns (total 2 columns):\n",
      " #   Column   Non-Null Count   Dtype \n",
      "---  ------   --------------   ----- \n",
      " 0   file     517401 non-null  object\n",
      " 1   message  517401 non-null  object\n",
      "dtypes: object(2)\n",
      "memory usage: 7.9+ MB\n"
     ]
    }
   ],
   "source": [
    "email_df.info()      #Consists of 2 columns- file and message"
   ]
  },
  {
   "cell_type": "code",
   "execution_count": 10,
   "id": "66ddf582-0c86-4b4e-a078-9c04a94ce4d6",
   "metadata": {},
   "outputs": [
    {
     "data": {
      "text/plain": [
       "['allen-p/_sent_mail/1.']"
      ]
     },
     "execution_count": 10,
     "metadata": {},
     "output_type": "execute_result"
    }
   ],
   "source": [
    "#look at the file structure\n",
    "\n",
    "email_df.loc[0]['file'].split(\"\\n\")     \n"
   ]
  },
  {
   "cell_type": "code",
   "execution_count": 11,
   "id": "4aa92e6d-38c8-4e95-883b-723ae4265423",
   "metadata": {},
   "outputs": [
    {
     "data": {
      "text/plain": [
       "['Message-ID: <18782981.1075855378110.JavaMail.evans@thyme>',\n",
       " 'Date: Mon, 14 May 2001 16:39:00 -0700 (PDT)',\n",
       " 'From: phillip.allen@enron.com',\n",
       " 'To: tim.belden@enron.com',\n",
       " 'Subject: ',\n",
       " 'Mime-Version: 1.0',\n",
       " 'Content-Type: text/plain; charset=us-ascii',\n",
       " 'Content-Transfer-Encoding: 7bit',\n",
       " 'X-From: Phillip K Allen',\n",
       " 'X-To: Tim Belden <Tim Belden/Enron@EnronXGate>',\n",
       " 'X-cc: ',\n",
       " 'X-bcc: ',\n",
       " \"X-Folder: \\\\Phillip_Allen_Jan2002_1\\\\Allen, Phillip K.\\\\'Sent Mail\",\n",
       " 'X-Origin: Allen-P',\n",
       " 'X-FileName: pallen (Non-Privileged).pst',\n",
       " '',\n",
       " 'Here is our forecast',\n",
       " '',\n",
       " ' ']"
      ]
     },
     "execution_count": 11,
     "metadata": {},
     "output_type": "execute_result"
    }
   ],
   "source": [
    "#look at the message structure\n",
    "\n",
    "email_df.loc[0]['message'].split(\"\\n\")     \n",
    "\n",
    "#It consists of message-id, date, from, to, subject, x-from, x-to, folder, and body"
   ]
  },
  {
   "cell_type": "code",
   "execution_count": 12,
   "id": "e13effda-1699-4c05-8716-7acc7932a100",
   "metadata": {},
   "outputs": [
    {
     "data": {
      "text/plain": [
       "file       0\n",
       "message    0\n",
       "dtype: int64"
      ]
     },
     "execution_count": 12,
     "metadata": {},
     "output_type": "execute_result"
    }
   ],
   "source": [
    "#check if there is null value\n",
    "\n",
    "email_df.isnull().sum()"
   ]
  },
  {
   "cell_type": "code",
   "execution_count": 13,
   "id": "a96c4a0c-8a66-4ec1-83ea-c6b830c6d5eb",
   "metadata": {},
   "outputs": [
    {
     "data": {
      "text/plain": [
       "file       517401\n",
       "message    517401\n",
       "dtype: int64"
      ]
     },
     "execution_count": 13,
     "metadata": {},
     "output_type": "execute_result"
    }
   ],
   "source": [
    "#check if all values are unique\n",
    "\n",
    "email_df.nunique()    \n",
    "\n",
    "#therefore, there are no duplicate values in our dataset"
   ]
  },
  {
   "cell_type": "markdown",
   "id": "46e8f0a0-4eee-4b1f-adc6-028cfaad89e9",
   "metadata": {},
   "source": [
    "# Observation\n",
    "\n",
    "- there is no null value\n",
    "- the message column needs to be cleaned and divided into columns as Date, From, To, Subject, X-From, X-To, Body\n",
    "- there are no duplicate values"
   ]
  },
  {
   "cell_type": "code",
   "execution_count": 15,
   "id": "698a9d6e-20ed-4ef3-8213-95b93cb06b8b",
   "metadata": {},
   "outputs": [
    {
     "data": {
      "text/plain": [
       "'Wed, 22 Mar 2000 00:36:00 -0800 (PST)'"
      ]
     },
     "execution_count": 15,
     "metadata": {},
     "output_type": "execute_result"
    }
   ],
   "source": [
    "import email\n",
    "\n",
    "message = email_df.loc[213]['message']\n",
    "emails = email.message_from_string(message) \n",
    "headers = emails.items()\n",
    "emails.get('Date')"
   ]
  },
  {
   "cell_type": "code",
   "execution_count": null,
   "id": "e4b33779-f793-44ac-a59b-c3c5ef22aabe",
   "metadata": {},
   "outputs": [],
   "source": []
  },
  {
   "cell_type": "code",
   "execution_count": 29,
   "id": "b4407f4f-cc78-4236-bce6-94a8f0d7f951",
   "metadata": {},
   "outputs": [],
   "source": [
    "parsed_emails = [email.message_from_string(message) for message in email_df['message']]\n"
   ]
  },
  {
   "cell_type": "code",
   "execution_count": 26,
   "id": "fc1f3d80-b9d7-4b4b-9b7b-7b224b1b6dcd",
   "metadata": {},
   "outputs": [
    {
     "data": {
      "text/plain": [
       "517401"
      ]
     },
     "execution_count": 26,
     "metadata": {},
     "output_type": "execute_result"
    }
   ],
   "source": [
    "len(email_df)"
   ]
  },
  {
   "cell_type": "code",
   "execution_count": 31,
   "id": "5b46f39e-4531-4814-8dd4-8e16c8f5acda",
   "metadata": {},
   "outputs": [],
   "source": [
    "email_df[\"Date\"] = [email_message[\"Date\"] for email_message in parsed_emails]"
   ]
  },
  {
   "cell_type": "code",
   "execution_count": 37,
   "id": "a0df8570-f3be-402e-ac7f-73a31e52651e",
   "metadata": {},
   "outputs": [],
   "source": [
    "email_df[\"From\"] = [email_message[\"From\"] for email_message in parsed_emails]\n",
    "email_df[\"To\"] = [email_message[\"To\"] for email_message in parsed_emails]\n",
    "email_df[\"X-From\"] = [email_message[\"X-From\"] for email_message in parsed_emails]\n",
    "email_df[\"X-To\"] = [email_message[\"X-To\"] for email_message in parsed_emails]\n",
    "email_df[\"Subject\"] = [email_message[\"Subject\"] for email_message in parsed_emails]\n"
   ]
  },
  {
   "cell_type": "code",
   "execution_count": 45,
   "id": "53e5fb05-c194-432b-bcb2-4defc8288498",
   "metadata": {},
   "outputs": [
    {
     "data": {
      "text/html": [
       "<div>\n",
       "<style scoped>\n",
       "    .dataframe tbody tr th:only-of-type {\n",
       "        vertical-align: middle;\n",
       "    }\n",
       "\n",
       "    .dataframe tbody tr th {\n",
       "        vertical-align: top;\n",
       "    }\n",
       "\n",
       "    .dataframe thead th {\n",
       "        text-align: right;\n",
       "    }\n",
       "</style>\n",
       "<table border=\"1\" class=\"dataframe\">\n",
       "  <thead>\n",
       "    <tr style=\"text-align: right;\">\n",
       "      <th></th>\n",
       "      <th>file</th>\n",
       "      <th>message</th>\n",
       "      <th>Date</th>\n",
       "      <th>From</th>\n",
       "      <th>To</th>\n",
       "      <th>X-From</th>\n",
       "      <th>X-To</th>\n",
       "      <th>Subject</th>\n",
       "    </tr>\n",
       "  </thead>\n",
       "  <tbody>\n",
       "    <tr>\n",
       "      <th>0</th>\n",
       "      <td>allen-p/_sent_mail/1.</td>\n",
       "      <td>Message-ID: &lt;18782981.1075855378110.JavaMail.e...</td>\n",
       "      <td>Mon, 14 May 2001 16:39:00 -0700 (PDT)</td>\n",
       "      <td>phillip.allen@enron.com</td>\n",
       "      <td>tim.belden@enron.com</td>\n",
       "      <td>Phillip K Allen</td>\n",
       "      <td>Tim Belden &lt;Tim Belden/Enron@EnronXGate&gt;</td>\n",
       "      <td></td>\n",
       "    </tr>\n",
       "    <tr>\n",
       "      <th>1</th>\n",
       "      <td>allen-p/_sent_mail/10.</td>\n",
       "      <td>Message-ID: &lt;15464986.1075855378456.JavaMail.e...</td>\n",
       "      <td>Fri, 4 May 2001 13:51:00 -0700 (PDT)</td>\n",
       "      <td>phillip.allen@enron.com</td>\n",
       "      <td>john.lavorato@enron.com</td>\n",
       "      <td>Phillip K Allen</td>\n",
       "      <td>John J Lavorato &lt;John J Lavorato/ENRON@enronXg...</td>\n",
       "      <td>Re:</td>\n",
       "    </tr>\n",
       "    <tr>\n",
       "      <th>2</th>\n",
       "      <td>allen-p/_sent_mail/100.</td>\n",
       "      <td>Message-ID: &lt;24216240.1075855687451.JavaMail.e...</td>\n",
       "      <td>Wed, 18 Oct 2000 03:00:00 -0700 (PDT)</td>\n",
       "      <td>phillip.allen@enron.com</td>\n",
       "      <td>leah.arsdall@enron.com</td>\n",
       "      <td>Phillip K Allen</td>\n",
       "      <td>Leah Van Arsdall</td>\n",
       "      <td>Re: test</td>\n",
       "    </tr>\n",
       "    <tr>\n",
       "      <th>3</th>\n",
       "      <td>allen-p/_sent_mail/1000.</td>\n",
       "      <td>Message-ID: &lt;13505866.1075863688222.JavaMail.e...</td>\n",
       "      <td>Mon, 23 Oct 2000 06:13:00 -0700 (PDT)</td>\n",
       "      <td>phillip.allen@enron.com</td>\n",
       "      <td>randall.gay@enron.com</td>\n",
       "      <td>Phillip K Allen</td>\n",
       "      <td>Randall L Gay</td>\n",
       "      <td></td>\n",
       "    </tr>\n",
       "    <tr>\n",
       "      <th>4</th>\n",
       "      <td>allen-p/_sent_mail/1001.</td>\n",
       "      <td>Message-ID: &lt;30922949.1075863688243.JavaMail.e...</td>\n",
       "      <td>Thu, 31 Aug 2000 05:07:00 -0700 (PDT)</td>\n",
       "      <td>phillip.allen@enron.com</td>\n",
       "      <td>greg.piper@enron.com</td>\n",
       "      <td>Phillip K Allen</td>\n",
       "      <td>Greg Piper</td>\n",
       "      <td>Re: Hello</td>\n",
       "    </tr>\n",
       "  </tbody>\n",
       "</table>\n",
       "</div>"
      ],
      "text/plain": [
       "                       file  \\\n",
       "0     allen-p/_sent_mail/1.   \n",
       "1    allen-p/_sent_mail/10.   \n",
       "2   allen-p/_sent_mail/100.   \n",
       "3  allen-p/_sent_mail/1000.   \n",
       "4  allen-p/_sent_mail/1001.   \n",
       "\n",
       "                                             message  \\\n",
       "0  Message-ID: <18782981.1075855378110.JavaMail.e...   \n",
       "1  Message-ID: <15464986.1075855378456.JavaMail.e...   \n",
       "2  Message-ID: <24216240.1075855687451.JavaMail.e...   \n",
       "3  Message-ID: <13505866.1075863688222.JavaMail.e...   \n",
       "4  Message-ID: <30922949.1075863688243.JavaMail.e...   \n",
       "\n",
       "                                    Date                     From  \\\n",
       "0  Mon, 14 May 2001 16:39:00 -0700 (PDT)  phillip.allen@enron.com   \n",
       "1   Fri, 4 May 2001 13:51:00 -0700 (PDT)  phillip.allen@enron.com   \n",
       "2  Wed, 18 Oct 2000 03:00:00 -0700 (PDT)  phillip.allen@enron.com   \n",
       "3  Mon, 23 Oct 2000 06:13:00 -0700 (PDT)  phillip.allen@enron.com   \n",
       "4  Thu, 31 Aug 2000 05:07:00 -0700 (PDT)  phillip.allen@enron.com   \n",
       "\n",
       "                        To           X-From  \\\n",
       "0     tim.belden@enron.com  Phillip K Allen   \n",
       "1  john.lavorato@enron.com  Phillip K Allen   \n",
       "2   leah.arsdall@enron.com  Phillip K Allen   \n",
       "3    randall.gay@enron.com  Phillip K Allen   \n",
       "4     greg.piper@enron.com  Phillip K Allen   \n",
       "\n",
       "                                                X-To    Subject  \n",
       "0           Tim Belden <Tim Belden/Enron@EnronXGate>             \n",
       "1  John J Lavorato <John J Lavorato/ENRON@enronXg...        Re:  \n",
       "2                                   Leah Van Arsdall   Re: test  \n",
       "3                                      Randall L Gay             \n",
       "4                                         Greg Piper  Re: Hello  "
      ]
     },
     "execution_count": 45,
     "metadata": {},
     "output_type": "execute_result"
    }
   ],
   "source": [
    "email_df.head()"
   ]
  },
  {
   "cell_type": "code",
   "execution_count": 47,
   "id": "c228ab9f-79e6-4b3e-ae2d-d88e25738b03",
   "metadata": {},
   "outputs": [],
   "source": [
    "email_df[\"Body\"] = [email_message.get_payload() for email_message in parsed_emails]"
   ]
  },
  {
   "cell_type": "code",
   "execution_count": 68,
   "id": "24d0176f-703a-4863-bf32-2fe630f8c082",
   "metadata": {},
   "outputs": [],
   "source": [
    "email_df[\"X-Folder\"] = [email_message[\"X-Folder\"] for email_message in parsed_emails]"
   ]
  },
  {
   "cell_type": "code",
   "execution_count": 70,
   "id": "1f5d7725-13ea-4fea-a489-daeff8c3ae2d",
   "metadata": {},
   "outputs": [
    {
     "data": {
      "text/html": [
       "<div>\n",
       "<style scoped>\n",
       "    .dataframe tbody tr th:only-of-type {\n",
       "        vertical-align: middle;\n",
       "    }\n",
       "\n",
       "    .dataframe tbody tr th {\n",
       "        vertical-align: top;\n",
       "    }\n",
       "\n",
       "    .dataframe thead th {\n",
       "        text-align: right;\n",
       "    }\n",
       "</style>\n",
       "<table border=\"1\" class=\"dataframe\">\n",
       "  <thead>\n",
       "    <tr style=\"text-align: right;\">\n",
       "      <th></th>\n",
       "      <th>file</th>\n",
       "      <th>message</th>\n",
       "      <th>Date</th>\n",
       "      <th>From</th>\n",
       "      <th>To</th>\n",
       "      <th>X-From</th>\n",
       "      <th>X-To</th>\n",
       "      <th>Subject</th>\n",
       "      <th>Body</th>\n",
       "      <th>Employee</th>\n",
       "      <th>X-Folder</th>\n",
       "    </tr>\n",
       "  </thead>\n",
       "  <tbody>\n",
       "    <tr>\n",
       "      <th>0</th>\n",
       "      <td>allen-p/_sent_mail/1.</td>\n",
       "      <td>Message-ID: &lt;18782981.1075855378110.JavaMail.e...</td>\n",
       "      <td>Mon, 14 May 2001 16:39:00 -0700 (PDT)</td>\n",
       "      <td>phillip.allen@enron.com</td>\n",
       "      <td>tim.belden@enron.com</td>\n",
       "      <td>Phillip K Allen</td>\n",
       "      <td>Tim Belden &lt;Tim Belden/Enron@EnronXGate&gt;</td>\n",
       "      <td></td>\n",
       "      <td>Here is our forecast\\n\\n</td>\n",
       "      <td>allen-p</td>\n",
       "      <td>\\Phillip_Allen_Jan2002_1\\Allen, Phillip K.\\'Se...</td>\n",
       "    </tr>\n",
       "    <tr>\n",
       "      <th>1</th>\n",
       "      <td>allen-p/_sent_mail/10.</td>\n",
       "      <td>Message-ID: &lt;15464986.1075855378456.JavaMail.e...</td>\n",
       "      <td>Fri, 4 May 2001 13:51:00 -0700 (PDT)</td>\n",
       "      <td>phillip.allen@enron.com</td>\n",
       "      <td>john.lavorato@enron.com</td>\n",
       "      <td>Phillip K Allen</td>\n",
       "      <td>John J Lavorato &lt;John J Lavorato/ENRON@enronXg...</td>\n",
       "      <td>Re:</td>\n",
       "      <td>Traveling to have a business meeting takes the...</td>\n",
       "      <td>allen-p</td>\n",
       "      <td>\\Phillip_Allen_Jan2002_1\\Allen, Phillip K.\\'Se...</td>\n",
       "    </tr>\n",
       "    <tr>\n",
       "      <th>2</th>\n",
       "      <td>allen-p/_sent_mail/100.</td>\n",
       "      <td>Message-ID: &lt;24216240.1075855687451.JavaMail.e...</td>\n",
       "      <td>Wed, 18 Oct 2000 03:00:00 -0700 (PDT)</td>\n",
       "      <td>phillip.allen@enron.com</td>\n",
       "      <td>leah.arsdall@enron.com</td>\n",
       "      <td>Phillip K Allen</td>\n",
       "      <td>Leah Van Arsdall</td>\n",
       "      <td>Re: test</td>\n",
       "      <td>test successful.  way to go!!!</td>\n",
       "      <td>allen-p</td>\n",
       "      <td>\\Phillip_Allen_Dec2000\\Notes Folders\\'sent mail</td>\n",
       "    </tr>\n",
       "    <tr>\n",
       "      <th>3</th>\n",
       "      <td>allen-p/_sent_mail/1000.</td>\n",
       "      <td>Message-ID: &lt;13505866.1075863688222.JavaMail.e...</td>\n",
       "      <td>Mon, 23 Oct 2000 06:13:00 -0700 (PDT)</td>\n",
       "      <td>phillip.allen@enron.com</td>\n",
       "      <td>randall.gay@enron.com</td>\n",
       "      <td>Phillip K Allen</td>\n",
       "      <td>Randall L Gay</td>\n",
       "      <td></td>\n",
       "      <td>Randy,\\n\\n Can you send me a schedule of the s...</td>\n",
       "      <td>allen-p</td>\n",
       "      <td>\\Phillip_Allen_Dec2000\\Notes Folders\\'sent mail</td>\n",
       "    </tr>\n",
       "    <tr>\n",
       "      <th>4</th>\n",
       "      <td>allen-p/_sent_mail/1001.</td>\n",
       "      <td>Message-ID: &lt;30922949.1075863688243.JavaMail.e...</td>\n",
       "      <td>Thu, 31 Aug 2000 05:07:00 -0700 (PDT)</td>\n",
       "      <td>phillip.allen@enron.com</td>\n",
       "      <td>greg.piper@enron.com</td>\n",
       "      <td>Phillip K Allen</td>\n",
       "      <td>Greg Piper</td>\n",
       "      <td>Re: Hello</td>\n",
       "      <td>Let's shoot for Tuesday at 11:45.</td>\n",
       "      <td>allen-p</td>\n",
       "      <td>\\Phillip_Allen_Dec2000\\Notes Folders\\'sent mail</td>\n",
       "    </tr>\n",
       "  </tbody>\n",
       "</table>\n",
       "</div>"
      ],
      "text/plain": [
       "                       file  \\\n",
       "0     allen-p/_sent_mail/1.   \n",
       "1    allen-p/_sent_mail/10.   \n",
       "2   allen-p/_sent_mail/100.   \n",
       "3  allen-p/_sent_mail/1000.   \n",
       "4  allen-p/_sent_mail/1001.   \n",
       "\n",
       "                                             message  \\\n",
       "0  Message-ID: <18782981.1075855378110.JavaMail.e...   \n",
       "1  Message-ID: <15464986.1075855378456.JavaMail.e...   \n",
       "2  Message-ID: <24216240.1075855687451.JavaMail.e...   \n",
       "3  Message-ID: <13505866.1075863688222.JavaMail.e...   \n",
       "4  Message-ID: <30922949.1075863688243.JavaMail.e...   \n",
       "\n",
       "                                    Date                     From  \\\n",
       "0  Mon, 14 May 2001 16:39:00 -0700 (PDT)  phillip.allen@enron.com   \n",
       "1   Fri, 4 May 2001 13:51:00 -0700 (PDT)  phillip.allen@enron.com   \n",
       "2  Wed, 18 Oct 2000 03:00:00 -0700 (PDT)  phillip.allen@enron.com   \n",
       "3  Mon, 23 Oct 2000 06:13:00 -0700 (PDT)  phillip.allen@enron.com   \n",
       "4  Thu, 31 Aug 2000 05:07:00 -0700 (PDT)  phillip.allen@enron.com   \n",
       "\n",
       "                        To           X-From  \\\n",
       "0     tim.belden@enron.com  Phillip K Allen   \n",
       "1  john.lavorato@enron.com  Phillip K Allen   \n",
       "2   leah.arsdall@enron.com  Phillip K Allen   \n",
       "3    randall.gay@enron.com  Phillip K Allen   \n",
       "4     greg.piper@enron.com  Phillip K Allen   \n",
       "\n",
       "                                                X-To    Subject  \\\n",
       "0           Tim Belden <Tim Belden/Enron@EnronXGate>              \n",
       "1  John J Lavorato <John J Lavorato/ENRON@enronXg...        Re:   \n",
       "2                                   Leah Van Arsdall   Re: test   \n",
       "3                                      Randall L Gay              \n",
       "4                                         Greg Piper  Re: Hello   \n",
       "\n",
       "                                                Body Employee  \\\n",
       "0                          Here is our forecast\\n\\n   allen-p   \n",
       "1  Traveling to have a business meeting takes the...  allen-p   \n",
       "2                     test successful.  way to go!!!  allen-p   \n",
       "3  Randy,\\n\\n Can you send me a schedule of the s...  allen-p   \n",
       "4                Let's shoot for Tuesday at 11:45.    allen-p   \n",
       "\n",
       "                                            X-Folder  \n",
       "0  \\Phillip_Allen_Jan2002_1\\Allen, Phillip K.\\'Se...  \n",
       "1  \\Phillip_Allen_Jan2002_1\\Allen, Phillip K.\\'Se...  \n",
       "2    \\Phillip_Allen_Dec2000\\Notes Folders\\'sent mail  \n",
       "3    \\Phillip_Allen_Dec2000\\Notes Folders\\'sent mail  \n",
       "4    \\Phillip_Allen_Dec2000\\Notes Folders\\'sent mail  "
      ]
     },
     "execution_count": 70,
     "metadata": {},
     "output_type": "execute_result"
    }
   ],
   "source": [
    "email_df.head()"
   ]
  },
  {
   "cell_type": "code",
   "execution_count": 58,
   "id": "617b81b0-70f9-4a56-b8f2-071c93da623f",
   "metadata": {},
   "outputs": [],
   "source": [
    "email_df['Employee'] = email_df['file'].str.split('/').str[0]"
   ]
  },
  {
   "cell_type": "code",
   "execution_count": 66,
   "id": "4b4d3d28-fbae-4143-9278-73a9fce86251",
   "metadata": {},
   "outputs": [
    {
     "data": {
      "text/html": [
       "<div>\n",
       "<style scoped>\n",
       "    .dataframe tbody tr th:only-of-type {\n",
       "        vertical-align: middle;\n",
       "    }\n",
       "\n",
       "    .dataframe tbody tr th {\n",
       "        vertical-align: top;\n",
       "    }\n",
       "\n",
       "    .dataframe thead th {\n",
       "        text-align: right;\n",
       "    }\n",
       "</style>\n",
       "<table border=\"1\" class=\"dataframe\">\n",
       "  <thead>\n",
       "    <tr style=\"text-align: right;\">\n",
       "      <th></th>\n",
       "      <th>file</th>\n",
       "      <th>message</th>\n",
       "      <th>Date</th>\n",
       "      <th>From</th>\n",
       "      <th>To</th>\n",
       "      <th>X-From</th>\n",
       "      <th>X-To</th>\n",
       "      <th>Subject</th>\n",
       "      <th>Body</th>\n",
       "      <th>Employee</th>\n",
       "    </tr>\n",
       "  </thead>\n",
       "  <tbody>\n",
       "    <tr>\n",
       "      <th>0</th>\n",
       "      <td>allen-p/_sent_mail/1.</td>\n",
       "      <td>Message-ID: &lt;18782981.1075855378110.JavaMail.e...</td>\n",
       "      <td>Mon, 14 May 2001 16:39:00 -0700 (PDT)</td>\n",
       "      <td>phillip.allen@enron.com</td>\n",
       "      <td>tim.belden@enron.com</td>\n",
       "      <td>Phillip K Allen</td>\n",
       "      <td>Tim Belden &lt;Tim Belden/Enron@EnronXGate&gt;</td>\n",
       "      <td></td>\n",
       "      <td>Here is our forecast\\n\\n</td>\n",
       "      <td>allen-p</td>\n",
       "    </tr>\n",
       "    <tr>\n",
       "      <th>1</th>\n",
       "      <td>allen-p/_sent_mail/10.</td>\n",
       "      <td>Message-ID: &lt;15464986.1075855378456.JavaMail.e...</td>\n",
       "      <td>Fri, 4 May 2001 13:51:00 -0700 (PDT)</td>\n",
       "      <td>phillip.allen@enron.com</td>\n",
       "      <td>john.lavorato@enron.com</td>\n",
       "      <td>Phillip K Allen</td>\n",
       "      <td>John J Lavorato &lt;John J Lavorato/ENRON@enronXg...</td>\n",
       "      <td>Re:</td>\n",
       "      <td>Traveling to have a business meeting takes the...</td>\n",
       "      <td>allen-p</td>\n",
       "    </tr>\n",
       "    <tr>\n",
       "      <th>2</th>\n",
       "      <td>allen-p/_sent_mail/100.</td>\n",
       "      <td>Message-ID: &lt;24216240.1075855687451.JavaMail.e...</td>\n",
       "      <td>Wed, 18 Oct 2000 03:00:00 -0700 (PDT)</td>\n",
       "      <td>phillip.allen@enron.com</td>\n",
       "      <td>leah.arsdall@enron.com</td>\n",
       "      <td>Phillip K Allen</td>\n",
       "      <td>Leah Van Arsdall</td>\n",
       "      <td>Re: test</td>\n",
       "      <td>test successful.  way to go!!!</td>\n",
       "      <td>allen-p</td>\n",
       "    </tr>\n",
       "    <tr>\n",
       "      <th>3</th>\n",
       "      <td>allen-p/_sent_mail/1000.</td>\n",
       "      <td>Message-ID: &lt;13505866.1075863688222.JavaMail.e...</td>\n",
       "      <td>Mon, 23 Oct 2000 06:13:00 -0700 (PDT)</td>\n",
       "      <td>phillip.allen@enron.com</td>\n",
       "      <td>randall.gay@enron.com</td>\n",
       "      <td>Phillip K Allen</td>\n",
       "      <td>Randall L Gay</td>\n",
       "      <td></td>\n",
       "      <td>Randy,\\n\\n Can you send me a schedule of the s...</td>\n",
       "      <td>allen-p</td>\n",
       "    </tr>\n",
       "    <tr>\n",
       "      <th>4</th>\n",
       "      <td>allen-p/_sent_mail/1001.</td>\n",
       "      <td>Message-ID: &lt;30922949.1075863688243.JavaMail.e...</td>\n",
       "      <td>Thu, 31 Aug 2000 05:07:00 -0700 (PDT)</td>\n",
       "      <td>phillip.allen@enron.com</td>\n",
       "      <td>greg.piper@enron.com</td>\n",
       "      <td>Phillip K Allen</td>\n",
       "      <td>Greg Piper</td>\n",
       "      <td>Re: Hello</td>\n",
       "      <td>Let's shoot for Tuesday at 11:45.</td>\n",
       "      <td>allen-p</td>\n",
       "    </tr>\n",
       "  </tbody>\n",
       "</table>\n",
       "</div>"
      ],
      "text/plain": [
       "                       file  \\\n",
       "0     allen-p/_sent_mail/1.   \n",
       "1    allen-p/_sent_mail/10.   \n",
       "2   allen-p/_sent_mail/100.   \n",
       "3  allen-p/_sent_mail/1000.   \n",
       "4  allen-p/_sent_mail/1001.   \n",
       "\n",
       "                                             message  \\\n",
       "0  Message-ID: <18782981.1075855378110.JavaMail.e...   \n",
       "1  Message-ID: <15464986.1075855378456.JavaMail.e...   \n",
       "2  Message-ID: <24216240.1075855687451.JavaMail.e...   \n",
       "3  Message-ID: <13505866.1075863688222.JavaMail.e...   \n",
       "4  Message-ID: <30922949.1075863688243.JavaMail.e...   \n",
       "\n",
       "                                    Date                     From  \\\n",
       "0  Mon, 14 May 2001 16:39:00 -0700 (PDT)  phillip.allen@enron.com   \n",
       "1   Fri, 4 May 2001 13:51:00 -0700 (PDT)  phillip.allen@enron.com   \n",
       "2  Wed, 18 Oct 2000 03:00:00 -0700 (PDT)  phillip.allen@enron.com   \n",
       "3  Mon, 23 Oct 2000 06:13:00 -0700 (PDT)  phillip.allen@enron.com   \n",
       "4  Thu, 31 Aug 2000 05:07:00 -0700 (PDT)  phillip.allen@enron.com   \n",
       "\n",
       "                        To           X-From  \\\n",
       "0     tim.belden@enron.com  Phillip K Allen   \n",
       "1  john.lavorato@enron.com  Phillip K Allen   \n",
       "2   leah.arsdall@enron.com  Phillip K Allen   \n",
       "3    randall.gay@enron.com  Phillip K Allen   \n",
       "4     greg.piper@enron.com  Phillip K Allen   \n",
       "\n",
       "                                                X-To    Subject  \\\n",
       "0           Tim Belden <Tim Belden/Enron@EnronXGate>              \n",
       "1  John J Lavorato <John J Lavorato/ENRON@enronXg...        Re:   \n",
       "2                                   Leah Van Arsdall   Re: test   \n",
       "3                                      Randall L Gay              \n",
       "4                                         Greg Piper  Re: Hello   \n",
       "\n",
       "                                                Body Employee  \n",
       "0                          Here is our forecast\\n\\n   allen-p  \n",
       "1  Traveling to have a business meeting takes the...  allen-p  \n",
       "2                     test successful.  way to go!!!  allen-p  \n",
       "3  Randy,\\n\\n Can you send me a schedule of the s...  allen-p  \n",
       "4                Let's shoot for Tuesday at 11:45.    allen-p  "
      ]
     },
     "execution_count": 66,
     "metadata": {},
     "output_type": "execute_result"
    }
   ],
   "source": [
    "email_df.head()"
   ]
  },
  {
   "cell_type": "markdown",
   "id": "3fce9e60-020f-4a27-99ed-e9427dc7a6bc",
   "metadata": {},
   "source": [
    "# Visualization\n",
    "\n",
    "- "
   ]
  },
  {
   "cell_type": "code",
   "execution_count": null,
   "id": "4c3541b9-2b0f-41a1-9661-9895d95944b5",
   "metadata": {},
   "outputs": [],
   "source": []
  },
  {
   "cell_type": "markdown",
   "id": "1b618d24-6ac6-4a1f-9154-805380e784cd",
   "metadata": {},
   "source": [
    "# Data preprocessing and Cleaning"
   ]
  },
  {
   "cell_type": "code",
   "execution_count": null,
   "id": "c52cdf70-58d1-4324-ad1d-1e0de7ebb787",
   "metadata": {},
   "outputs": [],
   "source": []
  },
  {
   "cell_type": "code",
   "execution_count": null,
   "id": "e8f84075-0f14-4582-adb7-c38c4bc5744d",
   "metadata": {},
   "outputs": [],
   "source": []
  },
  {
   "cell_type": "code",
   "execution_count": null,
   "id": "9fe2d404-49c9-4b67-aed4-226b2a45bb77",
   "metadata": {},
   "outputs": [],
   "source": []
  },
  {
   "cell_type": "markdown",
   "id": "66c4b689-37d7-4808-b501-00e85c05f6d5",
   "metadata": {},
   "source": [
    "# Model Building with Logistic Regression"
   ]
  },
  {
   "cell_type": "markdown",
   "id": "be7271a2-3473-4af2-874d-18f40787ec1c",
   "metadata": {},
   "source": [
    "# INterpreting the model accuracy"
   ]
  },
  {
   "cell_type": "code",
   "execution_count": null,
   "id": "c0eca294-9307-4fcc-b99f-e03371988afb",
   "metadata": {},
   "outputs": [],
   "source": []
  },
  {
   "cell_type": "code",
   "execution_count": null,
   "id": "3a160985-0cd1-4e19-a7a5-031539610f94",
   "metadata": {},
   "outputs": [],
   "source": []
  },
  {
   "cell_type": "code",
   "execution_count": null,
   "id": "a4903be5-f5cb-4d13-8b10-ce6bfc67e146",
   "metadata": {},
   "outputs": [],
   "source": []
  },
  {
   "cell_type": "code",
   "execution_count": null,
   "id": "3c3f45e4-4bad-461b-b224-b734fce9f84d",
   "metadata": {},
   "outputs": [],
   "source": []
  }
 ],
 "metadata": {
  "kernelspec": {
   "display_name": "Python 3 (ipykernel)",
   "language": "python",
   "name": "python3"
  },
  "language_info": {
   "codemirror_mode": {
    "name": "ipython",
    "version": 3
   },
   "file_extension": ".py",
   "mimetype": "text/x-python",
   "name": "python",
   "nbconvert_exporter": "python",
   "pygments_lexer": "ipython3",
   "version": "3.12.3"
  }
 },
 "nbformat": 4,
 "nbformat_minor": 5
}
